{
 "cells": [
  {
   "cell_type": "code",
   "execution_count": 1,
   "metadata": {},
   "outputs": [
    {
     "name": "stdout",
     "output_type": "stream",
     "text": [
      "\u001b[33mWARNING: Ignoring invalid distribution -ornac (/opt/anaconda3/lib/python3.8/site-packages)\u001b[0m\u001b[33m\n",
      "\u001b[0m\u001b[33mWARNING: Ignoring invalid distribution -ornac (/opt/anaconda3/lib/python3.8/site-packages)\u001b[0m\u001b[33m\n",
      "\u001b[0mCollecting paho-mqtt\n",
      "  Using cached paho-mqtt-1.6.1.tar.gz (99 kB)\n",
      "  Preparing metadata (setup.py) ... \u001b[?25ldone\n",
      "\u001b[?25hBuilding wheels for collected packages: paho-mqtt\n",
      "  Building wheel for paho-mqtt (setup.py) ... \u001b[?25ldone\n",
      "\u001b[?25h  Created wheel for paho-mqtt: filename=paho_mqtt-1.6.1-py3-none-any.whl size=62116 sha256=6f0163b14172fdb9229a24d4c8057932cf8cd60cc6fe940b1123858fce6166b3\n",
      "  Stored in directory: /Users/spencermarley/Library/Caches/pip/wheels/6a/48/01/c895c027e9b9367ec5470fbf371ee56e795a49ac6a19aa4c9f\n",
      "Successfully built paho-mqtt\n",
      "\u001b[33mWARNING: Ignoring invalid distribution -ornac (/opt/anaconda3/lib/python3.8/site-packages)\u001b[0m\u001b[33m\n",
      "\u001b[0mInstalling collected packages: paho-mqtt\n",
      "\u001b[33mWARNING: Ignoring invalid distribution -ornac (/opt/anaconda3/lib/python3.8/site-packages)\u001b[0m\u001b[33m\n",
      "\u001b[0mSuccessfully installed paho-mqtt-1.6.1\n",
      "\u001b[33mWARNING: Ignoring invalid distribution -ornac (/opt/anaconda3/lib/python3.8/site-packages)\u001b[0m\u001b[33m\n",
      "\u001b[0m\u001b[33mWARNING: Ignoring invalid distribution -ornac (/opt/anaconda3/lib/python3.8/site-packages)\u001b[0m\u001b[33m\n",
      "\u001b[0m\u001b[33mWARNING: Ignoring invalid distribution -ornac (/opt/anaconda3/lib/python3.8/site-packages)\u001b[0m\u001b[33m\n",
      "\u001b[0m"
     ]
    }
   ],
   "source": [
    "!pip install paho-mqtt"
   ]
  },
  {
   "attachments": {},
   "cell_type": "markdown",
   "metadata": {},
   "source": [
    "Subscribe to a topic “is614-iot/light/sensor1”\n",
    "The topic’s values can be assumed to be in this format:\n",
    "light:432\n",
    "light:521\n",
    "When the value of the light reading drops below 100, publish a message to “is614-iot/light/alerts” with the value “low light”\n",
    "When the value of the light reading goes above 500, publish a message to “is614-iot/light/alerts” with the value “bright light”\n",
    "To submit your code:\n",
    "Make your Google Colab link viewable to public\n",
    "Get the link to your Google Colab notebook\n",
    "Copy the link into a text file, name it Lab3.txt\n",
    "Submit to eLearn Assignments 🠆 Lab 3. Paste the link into the “Comments” "
   ]
  }
 ],
 "metadata": {
  "kernelspec": {
   "display_name": "Python 3",
   "language": "python",
   "name": "python3"
  },
  "language_info": {
   "codemirror_mode": {
    "name": "ipython",
    "version": 3
   },
   "file_extension": ".py",
   "mimetype": "text/x-python",
   "name": "python",
   "nbconvert_exporter": "python",
   "pygments_lexer": "ipython3",
   "version": "3.8.8"
  },
  "orig_nbformat": 4,
  "vscode": {
   "interpreter": {
    "hash": "40d3a090f54c6569ab1632332b64b2c03c39dcf918b08424e98f38b5ae0af88f"
   }
  }
 },
 "nbformat": 4,
 "nbformat_minor": 2
}
