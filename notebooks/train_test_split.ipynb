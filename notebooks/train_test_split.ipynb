{
 "cells": [
  {
   "cell_type": "markdown",
   "metadata": {},
   "source": [
    "### Objective \n",
    "\n",
    "- Generate CV folds and load into a basic RF"
   ]
  },
  {
   "cell_type": "code",
   "execution_count": 1,
   "metadata": {},
   "outputs": [],
   "source": [
    "import pandas as pd\n",
    "import matplotlib.pyplot as plt\n",
    "from src.config import PATHS, MLCONFIG\n",
    "from sklearn.model_selection import GridSearchCV\n",
    "import xgboost as xgb"
   ]
  },
  {
   "cell_type": "code",
   "execution_count": 2,
   "metadata": {},
   "outputs": [],
   "source": [
    "style_sheet = PATHS.MISC_DIR / \"base.mplstyle\"\n",
    "plt.style.use(style_sheet)\n",
    "\n",
    "# display option to 30 columns\n",
    "pd.set_option(\"display.max_columns\", 30)\n",
    "\n",
    "%matplotlib inline"
   ]
  },
  {
   "cell_type": "code",
   "execution_count": 3,
   "metadata": {},
   "outputs": [
    {
     "name": "stdout",
     "output_type": "stream",
     "text": [
      "<class 'pandas.core.frame.DataFrame'>\n",
      "RangeIndex: 200 entries, 0 to 199\n",
      "Data columns (total 7 columns):\n",
      " #   Column     Non-Null Count  Dtype  \n",
      "---  ------     --------------  -----  \n",
      " 0   timestamp  200 non-null    int64  \n",
      " 1   gyro_x     200 non-null    float64\n",
      " 2   gyro_y     200 non-null    float64\n",
      " 3   gyro_z     200 non-null    float64\n",
      " 4   accel_x    200 non-null    float64\n",
      " 5   accel_y    200 non-null    float64\n",
      " 6   accel_z    200 non-null    float64\n",
      "dtypes: float64(6), int64(1)\n",
      "memory usage: 11.1 KB\n"
     ]
    }
   ],
   "source": [
    "# simulating processed data \n",
    "processed_data_file_path = PATHS.DATA_DIR / \"sample_data.csv\"\n",
    "step_counter_readings_processed = pd.read_csv(processed_data_file_path)\n",
    "step_counter_readings_processed.info()"
   ]
  },
  {
   "cell_type": "code",
   "execution_count": 4,
   "metadata": {},
   "outputs": [],
   "source": [
    "param_search = {'max_depth' : [3, 5]}"
   ]
  },
  {
   "cell_type": "code",
   "execution_count": 5,
   "metadata": {},
   "outputs": [],
   "source": [
    "model = xgb.XGBRFClassifier()\n",
    "grid_search = GridSearchCV(estimator=model, cv=MLCONFIG.CV_SPLIT,\n",
    "                        param_grid=param_search)"
   ]
  }
 ],
 "metadata": {
  "kernelspec": {
   "display_name": "Python 3 (ipykernel)",
   "language": "python",
   "name": "python3"
  },
  "language_info": {
   "codemirror_mode": {
    "name": "ipython",
    "version": 3
   },
   "file_extension": ".py",
   "mimetype": "text/x-python",
   "name": "python",
   "nbconvert_exporter": "python",
   "pygments_lexer": "ipython3",
   "version": "3.9.16"
  },
  "vscode": {
   "interpreter": {
    "hash": "a4ef653cb8c464e399c0d638ad9689278b7baf2b87df54391016609543702ef3"
   }
  }
 },
 "nbformat": 4,
 "nbformat_minor": 4
}
