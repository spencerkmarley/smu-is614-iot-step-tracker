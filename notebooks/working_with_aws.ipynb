{
 "cells": [
  {
   "cell_type": "code",
   "execution_count": null,
   "metadata": {},
   "outputs": [],
   "source": [
    "import os\n",
    "import boto3\n",
    "import pandas as pd\n",
    "from src.dataloader import DataLoader\n",
    "from src.feature_generator import FeatureEngineering\n",
    "from src.config import PATHS, QUERY, KEYS, MLCONFIG\n",
    "from src.helpers import (check_s3_bucket, generate_result_from_query,\n",
    "                         setup_default_clients)"
   ]
  },
  {
   "cell_type": "code",
   "execution_count": null,
   "metadata": {},
   "outputs": [],
   "source": [
    "AWS_DEFAULT_REGION = os.environ[\"AWS_DEFAULT_REGION\"]\n",
    "AWS_ACCESS_KEY_ID = os.environ[\"AWS_ACCESS_KEY_ID\"]\n",
    "AWS_SECRET_ACCESS_KEY = os.environ[\"AWS_SECRET_ACCESS_KEY\"]"
   ]
  },
  {
   "cell_type": "code",
   "execution_count": null,
   "metadata": {},
   "outputs": [],
   "source": [
    "s3, athena = setup_default_clients()"
   ]
  },
  {
   "cell_type": "code",
   "execution_count": null,
   "metadata": {},
   "outputs": [],
   "source": [
    "s3_resource = boto3.resource(\n",
    "    \"s3\",\n",
    "    region_name=AWS_DEFAULT_REGION,\n",
    "    aws_access_key_id=AWS_ACCESS_KEY_ID,\n",
    "    aws_secret_access_key=AWS_SECRET_ACCESS_KEY,\n",
    ")\n",
    "\n",
    "check_s3_bucket(s3_resource, PATHS.BUCKET)"
   ]
  },
  {
   "cell_type": "code",
   "execution_count": null,
   "metadata": {},
   "outputs": [],
   "source": [
    "# list folders / objects in s3 bucket\n",
    "response = s3.list_objects(Bucket=PATHS.BUCKET)\n",
    "[content[\"Key\"] for content in response[\"Contents\"]]"
   ]
  },
  {
   "cell_type": "code",
   "execution_count": null,
   "metadata": {},
   "outputs": [],
   "source": [
    "# Generate query\n",
    "# generate_response(\n",
    "#     client=athena,\n",
    "#     query=QUERY.RAW_DATA,\n",
    "#     output=\"s3://smu-is614-iot-step-tracker/queries/\",\n",
    "# )"
   ]
  },
  {
   "cell_type": "code",
   "execution_count": null,
   "metadata": {},
   "outputs": [],
   "source": [
    "session = boto3.setup_default_session(\n",
    "        region_name=KEYS.AWS_DEFAULT_REGION,\n",
    "        aws_access_key_id=KEYS.AWS_ACCESS_KEY_ID,\n",
    "        aws_secret_access_key=KEYS.AWS_SECRET_ACCESS_KEY,\n",
    "    )"
   ]
  },
  {
   "cell_type": "code",
   "execution_count": null,
   "metadata": {},
   "outputs": [],
   "source": [
    "QUERY = \"\"\"\n",
    "    SELECT\n",
    "        *,\n",
    "        CASE \n",
    "          WHEN uuid LIKE '%_walk_%' THEN true \n",
    "          ELSE false \n",
    "        END AS target\n",
    "    FROM\n",
    "        \"smu-iot\".\"microbit\"\n",
    "    WHERE\n",
    "        seconds IS NOT null\n",
    "    ORDER BY\n",
    "        uuid, timestamp, seconds    \n",
    "\"\"\""
   ]
  },
  {
   "cell_type": "code",
   "execution_count": null,
   "metadata": {},
   "outputs": [],
   "source": [
    "dataloader = DataLoader(session=session)\n",
    "dataloader.load_data(query=QUERY, database=PATHS.DB_TEST)\n",
    "print(dataloader.get_data())"
   ]
  },
  {
   "cell_type": "code",
   "execution_count": null,
   "metadata": {},
   "outputs": [],
   "source": [
    "df = dataloader.data.copy()\n",
    "df.to_csv(PATHS.DATA_DIR / \"test.csv\", index=False)"
   ]
  },
  {
   "cell_type": "code",
   "execution_count": null,
   "metadata": {},
   "outputs": [],
   "source": [
    "###\n",
    "df = pd.read_csv(PATHS.DATA_DIR / \"test.csv\")"
   ]
  },
  {
   "cell_type": "code",
   "execution_count": null,
   "metadata": {},
   "outputs": [],
   "source": [
    "df.head()"
   ]
  },
  {
   "cell_type": "code",
   "execution_count": null,
   "metadata": {},
   "outputs": [],
   "source": [
    "df_copy = df.copy()"
   ]
  },
  {
   "cell_type": "code",
   "execution_count": null,
   "metadata": {},
   "outputs": [],
   "source": [
    "fe_settings = {\n",
    "    \"upload_to_s3\": False, \n",
    "    \"apply_smooth_filter\": False,\n",
    "    \"apply_median_filter\": False, \n",
    "    \"apply_savgol_filter\": False,\n",
    "    \"extract_features\": False\n",
    "}\n",
    "fe = FeatureEngineering(**fe_settings)"
   ]
  },
  {
   "cell_type": "code",
   "execution_count": null,
   "metadata": {},
   "outputs": [],
   "source": []
  }
 ],
 "metadata": {
  "kernelspec": {
   "display_name": "iot",
   "language": "python",
   "name": "python3"
  },
  "language_info": {
   "codemirror_mode": {
    "name": "ipython",
    "version": 3
   },
   "file_extension": ".py",
   "mimetype": "text/x-python",
   "name": "python",
   "nbconvert_exporter": "python",
   "pygments_lexer": "ipython3",
   "version": "3.8.1"
  },
  "vscode": {
   "interpreter": {
    "hash": "a4ef653cb8c464e399c0d638ad9689278b7baf2b87df54391016609543702ef3"
   }
  }
 },
 "nbformat": 4,
 "nbformat_minor": 2
}
