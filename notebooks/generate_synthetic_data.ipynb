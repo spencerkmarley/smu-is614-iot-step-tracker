{
 "cells": [
  {
   "cell_type": "code",
   "execution_count": 9,
   "metadata": {},
   "outputs": [],
   "source": [
    "# import libraries\n",
    "import time\n",
    "import pandas as pd \n",
    "import numpy as np"
   ]
  },
  {
   "cell_type": "code",
   "execution_count": 10,
   "metadata": {},
   "outputs": [],
   "source": [
    "# define the params\n",
    "num_samples = 200\n",
    "start_time = time.time() "
   ]
  },
  {
   "cell_type": "code",
   "execution_count": 11,
   "metadata": {},
   "outputs": [],
   "source": [
    "data = [] \n",
    "\n",
    "for i in range(num_samples): \n",
    "    timestamp = start_time + (5 * i)\n",
    "    gyro_x = np.random.normal(loc=0, scale=50)\n",
    "    gyro_y = np.random.normal(loc=0, scale=50)\n",
    "    gyro_z = np.random.normal(loc=0, scale=50) \n",
    "\n",
    "    accel_x = np.random.normal(loc=0, scale=50)\n",
    "    accel_y = np.random.normal(loc=0, scale=50)\n",
    "    accel_z = np.random.normal(loc=0, scale=50)\n",
    "\n",
    "    data.append([timestamp, gyro_x, gyro_y, gyro_z, accel_x, accel_y, accel_z]) \n",
    "\n",
    "df_dist_one = pd.DataFrame(data=data, columns=[\"timestamp\", \"gyro_x\", \"gyro_y\", \"gyro_z\", \"accel_x\", \"accel_y\", \"accel_z\"])"
   ]
  },
  {
   "cell_type": "code",
   "execution_count": 14,
   "metadata": {},
   "outputs": [],
   "source": [
    "df_dist_one.to_csv(\"../data/sample_data.csv\", index=False)"
   ]
  }
 ],
 "metadata": {
  "kernelspec": {
   "display_name": "iot",
   "language": "python",
   "name": "python3"
  },
  "language_info": {
   "codemirror_mode": {
    "name": "ipython",
    "version": 3
   },
   "file_extension": ".py",
   "mimetype": "text/x-python",
   "name": "python",
   "nbconvert_exporter": "python",
   "pygments_lexer": "ipython3",
   "version": "3.8.1"
  },
  "orig_nbformat": 4,
  "vscode": {
   "interpreter": {
    "hash": "a4ef653cb8c464e399c0d638ad9689278b7baf2b87df54391016609543702ef3"
   }
  }
 },
 "nbformat": 4,
 "nbformat_minor": 2
}
