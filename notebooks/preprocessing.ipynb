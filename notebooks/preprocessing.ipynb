{
 "cells": [
  {
   "cell_type": "code",
   "execution_count": 29,
   "id": "e588dd4f-582b-4bae-80d3-0a730c7bdf94",
   "metadata": {},
   "outputs": [],
   "source": [
    "import boto3\n",
    "import time\n",
    "import pandas as pd\n",
    "import numpy as np\n",
    "from tsfresh import extract_features"
   ]
  },
  {
   "cell_type": "markdown",
   "id": "30a406f4-5871-41e8-88e2-7f8ffeabd42d",
   "metadata": {},
   "source": [
    "## Connect to AWS Athena and query data"
   ]
  },
  {
   "cell_type": "code",
   "execution_count": 3,
   "id": "9877387c-8f8e-4b0a-8ae9-62fad59df443",
   "metadata": {},
   "outputs": [],
   "source": [
    "client = boto3.client('athena')"
   ]
  },
  {
   "cell_type": "code",
   "execution_count": 4,
   "id": "2d1345cc-a07f-4437-a3a6-13ce731978bd",
   "metadata": {},
   "outputs": [],
   "source": [
    "RESULT_OUTPUT_LOCATION = \"s3://smu-is614-iot-step-tracker/queries/\""
   ]
  },
  {
   "cell_type": "code",
   "execution_count": 5,
   "id": "5c288392-318c-4faa-9c23-15bf61a3c153",
   "metadata": {},
   "outputs": [],
   "source": [
    "query = f\"\"\"\n",
    "    SELECT\n",
    "        *\n",
    "    FROM\n",
    "        \"smu-iot\".\"microbit\"\n",
    "\"\"\""
   ]
  },
  {
   "cell_type": "code",
   "execution_count": 6,
   "id": "d20286ef-d195-4492-81ca-e6c0ff4583f2",
   "metadata": {},
   "outputs": [],
   "source": [
    "def has_query_succeeded(client, execution_id):\n",
    "    state = \"RUNNING\"\n",
    "    max_execution = 5\n",
    "\n",
    "    while max_execution > 0 and state in [\"RUNNING\", \"QUEUED\"]:\n",
    "        max_execution -= 1\n",
    "        response = client.get_query_execution(QueryExecutionId=execution_id)\n",
    "        if (\n",
    "            \"QueryExecution\" in response\n",
    "            and \"Status\" in response[\"QueryExecution\"]\n",
    "            and \"State\" in response[\"QueryExecution\"][\"Status\"]\n",
    "        ):\n",
    "            state = response[\"QueryExecution\"][\"Status\"][\"State\"]\n",
    "            if state == \"SUCCEEDED\":\n",
    "                return True\n",
    "\n",
    "        time.sleep(5)\n",
    "\n",
    "    return False\n",
    "\n",
    "\n",
    "def get_athena_query(client, query, output):\n",
    "    response = client.start_query_execution(\n",
    "        QueryString=query,\n",
    "        ResultConfiguration={\"OutputLocation\": output}\n",
    "    )\n",
    "    \n",
    "    time.sleep(1)\n",
    "        \n",
    "    if has_query_succeeded(client, response['QueryExecutionId']):\n",
    "        result = client.get_query_results(\n",
    "            QueryExecutionId=response['QueryExecutionId']\n",
    "        )\n",
    "        print (\"query is successful!\")\n",
    "        return result['ResultSet']['Rows']\n",
    "    \n",
    "    print (\"No result returned!\")\n",
    "    return None"
   ]
  },
  {
   "cell_type": "code",
   "execution_count": 7,
   "id": "2d94d451-ea00-411f-a264-d105127d152f",
   "metadata": {},
   "outputs": [
    {
     "name": "stdout",
     "output_type": "stream",
     "text": [
      "query is successful!\n",
      "CPU times: total: 0 ns\n",
      "Wall time: 1.51 s\n"
     ]
    }
   ],
   "source": [
    "%%time\n",
    "\n",
    "res = get_athena_query(client, query, RESULT_OUTPUT_LOCATION)\n",
    "\n",
    "cols = {}\n",
    "for c in res[0]['Data']:\n",
    "    k = c['VarCharValue']\n",
    "    cols[k] = None\n",
    "    \n",
    "data = np.array([[result['VarCharValue'] for result in res[i]['Data']] for i in range(1, len(res))])\n",
    "    \n",
    "df = pd.DataFrame(columns=cols, data=data)"
   ]
  },
  {
   "cell_type": "code",
   "execution_count": 8,
   "id": "41d197e0-4a72-4465-9157-fa6837e3877e",
   "metadata": {},
   "outputs": [],
   "source": [
    "df = df.astype({\n",
    "    'timestamp': np.int64,\n",
    "    'uuid': 'str',\n",
    "    'gyro_x': 'float',\n",
    "    'gyro_y': 'float',\n",
    "    'gyro_z': 'float',\n",
    "    'accel_x': 'float',\n",
    "    'accel_y': 'float',\n",
    "    'accel_z': 'float'\n",
    "})"
   ]
  },
  {
   "cell_type": "markdown",
   "id": "0ff3243b-4656-4fe3-8f8c-15fe642f5e47",
   "metadata": {},
   "source": [
    "## Generate Dummy Time Series Data"
   ]
  },
  {
   "cell_type": "code",
   "execution_count": 39,
   "id": "62989e15-6c9f-4221-9030-797697c7d544",
   "metadata": {},
   "outputs": [],
   "source": [
    "df = pd.read_csv(\"..\\data\\sample_data.csv\")\n",
    "df['timestamp'] = pd.to_datetime(df['timestamp'], unit='s')\n",
    "df.set_index('timestamp', inplace=True)\n"
   ]
  },
  {
   "cell_type": "markdown",
   "id": "7c40cd0e-eaf5-4477-8875-74329f1c5821",
   "metadata": {},
   "source": [
    "## Explore Preprocessing libraries\n",
    "\n",
    "Based on this [paper](https://ieeexplore.ieee.org/document/8672772), we can use the following pre-processing methods:\n",
    "\n",
    "* Spike Removal\n",
    "* Noise Removal (Savitzky-Golay smoothing filter)\n",
    "* Mean, Standard Deviation, Peak to Peak Amplitude, Skewness , Kurtosis "
   ]
  },
  {
   "cell_type": "code",
   "execution_count": 52,
   "id": "c28d3f18-5b0f-42d0-abd8-181c1a9413fd",
   "metadata": {},
   "outputs": [],
   "source": [
    "## spike removal\n",
    "\n",
    "# def remove_spike(x):\n",
    "#     std = np.std(x)\n",
    "#     return std\n",
    "\n",
    "# In progress"
   ]
  },
  {
   "cell_type": "markdown",
   "id": "04f08022-ebba-4f00-b1d6-8e5db3a6e10f",
   "metadata": {},
   "source": [
    "## Use automated time-series feature extractor from TS fresh"
   ]
  },
  {
   "cell_type": "code",
   "execution_count": 53,
   "id": "d9f14902-7b18-4461-9b5a-db8360826cc9",
   "metadata": {},
   "outputs": [],
   "source": [
    "from tsfresh import extract_features"
   ]
  },
  {
   "cell_type": "code",
   "execution_count": 54,
   "id": "7a0cde24-af3c-49c0-960c-d58828a162d2",
   "metadata": {},
   "outputs": [],
   "source": [
    "df['time'] = pd.to_datetime(df.index)\n",
    "df['id'] = 1"
   ]
  },
  {
   "cell_type": "code",
   "execution_count": 55,
   "id": "e72f754b-37d4-46c2-a4a3-48cca3dc9f23",
   "metadata": {},
   "outputs": [
    {
     "name": "stderr",
     "output_type": "stream",
     "text": [
      "Feature Extraction: 100%|████████████████████████████████████████████████████████████████| 6/6 [00:03<00:00,  1.59it/s]\n"
     ]
    }
   ],
   "source": [
    "features = extract_features(df, column_id=\"id\", column_sort=\"time\").dropna(axis=1)"
   ]
  },
  {
   "cell_type": "code",
   "execution_count": 56,
   "id": "7351f874-9092-4e81-a275-80819d847690",
   "metadata": {},
   "outputs": [
    {
     "data": {
      "text/html": [
       "<div>\n",
       "<style scoped>\n",
       "    .dataframe tbody tr th:only-of-type {\n",
       "        vertical-align: middle;\n",
       "    }\n",
       "\n",
       "    .dataframe tbody tr th {\n",
       "        vertical-align: top;\n",
       "    }\n",
       "\n",
       "    .dataframe thead th {\n",
       "        text-align: right;\n",
       "    }\n",
       "</style>\n",
       "<table border=\"1\" class=\"dataframe\">\n",
       "  <thead>\n",
       "    <tr style=\"text-align: right;\">\n",
       "      <th></th>\n",
       "      <th>gyro_x__variance_larger_than_standard_deviation</th>\n",
       "      <th>gyro_x__has_duplicate_max</th>\n",
       "      <th>gyro_x__has_duplicate_min</th>\n",
       "      <th>gyro_x__has_duplicate</th>\n",
       "      <th>gyro_x__sum_values</th>\n",
       "      <th>gyro_x__abs_energy</th>\n",
       "      <th>gyro_x__mean_abs_change</th>\n",
       "      <th>gyro_x__mean_change</th>\n",
       "      <th>gyro_x__mean_second_derivative_central</th>\n",
       "      <th>gyro_x__median</th>\n",
       "      <th>...</th>\n",
       "      <th>accel_y__fourier_entropy__bins_3</th>\n",
       "      <th>accel_y__fourier_entropy__bins_5</th>\n",
       "      <th>accel_y__fourier_entropy__bins_10</th>\n",
       "      <th>accel_y__fourier_entropy__bins_100</th>\n",
       "      <th>accel_y__permutation_entropy__dimension_3__tau_1</th>\n",
       "      <th>accel_y__permutation_entropy__dimension_4__tau_1</th>\n",
       "      <th>accel_y__permutation_entropy__dimension_5__tau_1</th>\n",
       "      <th>accel_y__permutation_entropy__dimension_6__tau_1</th>\n",
       "      <th>accel_y__permutation_entropy__dimension_7__tau_1</th>\n",
       "      <th>accel_y__mean_n_absolute_max__number_of_maxima_7</th>\n",
       "    </tr>\n",
       "  </thead>\n",
       "  <tbody>\n",
       "    <tr>\n",
       "      <th>1</th>\n",
       "      <td>1.0</td>\n",
       "      <td>0.0</td>\n",
       "      <td>0.0</td>\n",
       "      <td>0.0</td>\n",
       "      <td>570.832118</td>\n",
       "      <td>412739.714625</td>\n",
       "      <td>50.081569</td>\n",
       "      <td>0.315089</td>\n",
       "      <td>-0.292198</td>\n",
       "      <td>1.295522</td>\n",
       "      <td>...</td>\n",
       "      <td>0.608998</td>\n",
       "      <td>1.114931</td>\n",
       "      <td>1.73331</td>\n",
       "      <td>3.681396</td>\n",
       "      <td>1.78022</td>\n",
       "      <td>3.126448</td>\n",
       "      <td>4.384515</td>\n",
       "      <td>5.003652</td>\n",
       "      <td>5.179411</td>\n",
       "      <td>128.53955</td>\n",
       "    </tr>\n",
       "  </tbody>\n",
       "</table>\n",
       "<p>1 rows × 4722 columns</p>\n",
       "</div>"
      ],
      "text/plain": [
       "   gyro_x__variance_larger_than_standard_deviation  gyro_x__has_duplicate_max  \\\n",
       "1                                              1.0                        0.0   \n",
       "\n",
       "   gyro_x__has_duplicate_min  gyro_x__has_duplicate  gyro_x__sum_values  \\\n",
       "1                        0.0                    0.0          570.832118   \n",
       "\n",
       "   gyro_x__abs_energy  gyro_x__mean_abs_change  gyro_x__mean_change  \\\n",
       "1       412739.714625                50.081569             0.315089   \n",
       "\n",
       "   gyro_x__mean_second_derivative_central  gyro_x__median  ...  \\\n",
       "1                               -0.292198        1.295522  ...   \n",
       "\n",
       "   accel_y__fourier_entropy__bins_3  accel_y__fourier_entropy__bins_5  \\\n",
       "1                          0.608998                          1.114931   \n",
       "\n",
       "   accel_y__fourier_entropy__bins_10  accel_y__fourier_entropy__bins_100  \\\n",
       "1                            1.73331                            3.681396   \n",
       "\n",
       "   accel_y__permutation_entropy__dimension_3__tau_1  \\\n",
       "1                                           1.78022   \n",
       "\n",
       "   accel_y__permutation_entropy__dimension_4__tau_1  \\\n",
       "1                                          3.126448   \n",
       "\n",
       "   accel_y__permutation_entropy__dimension_5__tau_1  \\\n",
       "1                                          4.384515   \n",
       "\n",
       "   accel_y__permutation_entropy__dimension_6__tau_1  \\\n",
       "1                                          5.003652   \n",
       "\n",
       "   accel_y__permutation_entropy__dimension_7__tau_1  \\\n",
       "1                                          5.179411   \n",
       "\n",
       "   accel_y__mean_n_absolute_max__number_of_maxima_7  \n",
       "1                                         128.53955  \n",
       "\n",
       "[1 rows x 4722 columns]"
      ]
     },
     "execution_count": 56,
     "metadata": {},
     "output_type": "execute_result"
    }
   ],
   "source": [
    "features"
   ]
  },
  {
   "cell_type": "code",
   "execution_count": 57,
   "id": "09b7d7a0-e787-41f7-86f3-0e5a60c6ef17",
   "metadata": {},
   "outputs": [
    {
     "name": "stdout",
     "output_type": "stream",
     "text": [
      "Name: tsfresh\n",
      "Version: 0.20.0\n",
      "Summary: tsfresh extracts relevant characteristics from time series\n",
      "Home-page: https://github.com/blue-yonder/tsfresh\n",
      "Author: Maximilian Christ, Nils Braun, Julius Neuffer, Andreas W. Kempa-Liehr\n",
      "Author-email: max.christ@me.com\n",
      "License: MIT\n",
      "Location: c:\\users\\songh\\anaconda3\\envs\\smu-iot\\lib\\site-packages\n",
      "Requires: cloudpickle, dask, distributed, numpy, pandas, patsy, requests, scikit-learn, scipy, statsmodels, stumpy, tqdm\n",
      "Required-by: \n"
     ]
    },
    {
     "name": "stderr",
     "output_type": "stream",
     "text": [
      "WARNING: Package(s) not found: package\n"
     ]
    }
   ],
   "source": [
    "!pip show package tsfresh"
   ]
  },
  {
   "cell_type": "code",
   "execution_count": null,
   "id": "fe9cade5-dbd0-4a08-9ebe-cfcfe38fb854",
   "metadata": {},
   "outputs": [],
   "source": []
  }
 ],
 "metadata": {
  "kernelspec": {
   "display_name": "Python 3 (ipykernel)",
   "language": "python",
   "name": "python3"
  },
  "language_info": {
   "codemirror_mode": {
    "name": "ipython",
    "version": 3
   },
   "file_extension": ".py",
   "mimetype": "text/x-python",
   "name": "python",
   "nbconvert_exporter": "python",
   "pygments_lexer": "ipython3",
   "version": "3.9.16"
  }
 },
 "nbformat": 4,
 "nbformat_minor": 5
}
